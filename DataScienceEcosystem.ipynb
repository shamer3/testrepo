{
 "cells": [
  {
   "cell_type": "markdown",
   "id": "c8858d6f",
   "metadata": {},
   "source": [
    "# Data Science Tools and Ecosystem"
   ]
  },
  {
   "cell_type": "markdown",
   "id": "0cab55c5",
   "metadata": {},
   "source": [
    "## Author\n",
    "Sian Hamer"
   ]
  },
  {
   "cell_type": "markdown",
   "id": "4aee0006",
   "metadata": {},
   "source": [
    "**Objectives:**\n",
    "- Popular Languages in Data Science\n",
    "- Commonly Used Libraries in Data Science\n",
    "- Development Environment Open Source Tools for Data Science\n",
    "- Arithmetic expressions - Multiply and Add Intergers\n",
    "- Arithmetic expressions - Minutes to Hours"
   ]
  },
  {
   "cell_type": "markdown",
   "id": "f8b1f819",
   "metadata": {},
   "source": [
    "In this notebook, Data Science Tools and Ecosystem are summarized."
   ]
  },
  {
   "cell_type": "markdown",
   "id": "c308fe08",
   "metadata": {},
   "source": [
    "Some of the popular languages that Data Scientists use are:\n",
    "1. C\n",
    "2. C++\n",
    "3. Python\n",
    "4. Java\n",
    "5. Julia\n",
    "6. R"
   ]
  },
  {
   "cell_type": "markdown",
   "id": "fe33a817",
   "metadata": {},
   "source": [
    "Some of the commonly used libraries ised by Data Scientists include:\n",
    "1. ggplot\n",
    "2. Numpy\n",
    "3. Plotly\n",
    "4. Pandas"
   ]
  },
  {
   "cell_type": "markdown",
   "id": "3cb2f7ce",
   "metadata": {},
   "source": [
    "| Data Science Tools |\n",
    "| ------ |\n",
    "| Pandas |\n",
    "| TensorFlow |\n",
    "| Jupyter Notebooks |"
   ]
  },
  {
   "cell_type": "markdown",
   "id": "3ea620f4",
   "metadata": {},
   "source": [
    "### Below are a few examples of evaluating arithmetic expressions in Python"
   ]
  },
  {
   "cell_type": "code",
   "execution_count": 1,
   "id": "fa18a101",
   "metadata": {},
   "outputs": [
    {
     "data": {
      "text/plain": [
       "17"
      ]
     },
     "execution_count": 1,
     "metadata": {},
     "output_type": "execute_result"
    }
   ],
   "source": [
    "#This a simple arithmetic expression to multiply then add integers.\n",
    "(3*4)+5"
   ]
  },
  {
   "cell_type": "code",
   "execution_count": 2,
   "id": "98d129a2",
   "metadata": {},
   "outputs": [
    {
     "data": {
      "text/plain": [
       "3.3333333333333335"
      ]
     },
     "execution_count": 2,
     "metadata": {},
     "output_type": "execute_result"
    }
   ],
   "source": [
    "#This will convert 200 monutes to hours by dividing by 60\n",
    "200/60"
   ]
  }
 ],
 "metadata": {
  "kernelspec": {
   "display_name": "Python 3 (ipykernel)",
   "language": "python",
   "name": "python3"
  },
  "language_info": {
   "codemirror_mode": {
    "name": "ipython",
    "version": 3
   },
   "file_extension": ".py",
   "mimetype": "text/x-python",
   "name": "python",
   "nbconvert_exporter": "python",
   "pygments_lexer": "ipython3",
   "version": "3.11.3"
  }
 },
 "nbformat": 4,
 "nbformat_minor": 5
}
